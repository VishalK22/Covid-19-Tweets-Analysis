{
 "cells": [
  {
   "cell_type": "markdown",
   "metadata": {},
   "source": [
    "# Importing the Libraries"
   ]
  },
  {
   "cell_type": "code",
   "execution_count": 1,
   "metadata": {},
   "outputs": [],
   "source": [
    "import pandas as pd\n",
    "import numpy as np\n",
    "import matplotlib.pyplot as plt\n",
    "%matplotlib inline\n",
    "import seaborn as sns"
   ]
  },
  {
   "cell_type": "markdown",
   "metadata": {},
   "source": [
    "# Importing and exploring dataset"
   ]
  },
  {
   "cell_type": "code",
   "execution_count": 2,
   "metadata": {},
   "outputs": [],
   "source": [
    "cr = pd.read_csv(r\"F:\\Phython\\InFeedo\\covid19_tweets.csv\", encoding='latin1')"
   ]
  },
  {
   "cell_type": "code",
   "execution_count": 3,
   "metadata": {},
   "outputs": [
    {
     "name": "stdout",
     "output_type": "stream",
     "text": [
      "                     user_name               user_location  \\\n",
      "0             áá¥â»Õ¬ê",
      "Ï®                  astroworld   \n",
      "1          Tom Basile ðºð¸                New York, NY   \n",
      "2              Time4fisticuffs            Pewee Valley, KY   \n",
      "3                  ethel mertz        Stuck in the Middle    \n",
      "4                     DIPR-J&K           Jammu and Kashmir   \n",
      "...                        ...                         ...   \n",
      "179103  AJIMATI AbdulRahman O.             Ilorin, Nigeria   \n",
      "179104                   Jason                     Ontario   \n",
      "179105           BEEHEMOTH â³             ð¨ð¦ Canada   \n",
      "179106           Gary DelPonte               New York City   \n",
      "179107                 TUKY II  Aliwal North, South Africa   \n",
      "\n",
      "                                         user_description      user_created  \\\n",
      "0       wednesday addams as a disney princess keepin i...    5/26/2017 5:46   \n",
      "1       Husband, Father, Columnist & Commentator. Auth...   4/16/2009 20:06   \n",
      "2       #Christian #Catholic #Conservative #Reagan #Re...   2/28/2009 18:57   \n",
      "3       #Browns #Indians #ClevelandProud #[]_[] #Cavs ...     3/7/2019 1:45   \n",
      "4       ðï¸Official Twitter handle of Department o...    2/12/2017 6:45   \n",
      "...                                                   ...               ...   \n",
      "179103    Animal Scientist|| Muslim|| Real Madrid/Chelsea  12/30/2013 18:59   \n",
      "179104  When your cat has more baking soda than Ninja ...   12/21/2011 4:41   \n",
      "179105  âï¸ The Architects of Free Trade âï¸ Rea...   7/13/2016 17:21   \n",
      "179106  Global UX UI Visual Designer. StoryTeller, Mus...  10/27/2009 17:43   \n",
      "179107  TOKELO SEKHOPA | TUKY II | LAST BORN | EISH TU...   4/14/2018 17:30   \n",
      "\n",
      "        user_followers  user_friends  user_favourites  user_verified  \\\n",
      "0                  624           950            18775          False   \n",
      "1                 2253          1677               24           True   \n",
      "2                 9275          9525             7254          False   \n",
      "3                  197           987             1488          False   \n",
      "4               101009           168              101          False   \n",
      "...                ...           ...              ...            ...   \n",
      "179103             412          1609             1062          False   \n",
      "179104             150           182             7295          False   \n",
      "179105            1623          2160            98000          False   \n",
      "179106            1338          1111                0          False   \n",
      "179107              97          1697              566          False   \n",
      "\n",
      "                   date                                               text  \\\n",
      "0       7/25/2020 12:27  If I smelled the scent of hand sanitizers toda...   \n",
      "1       7/25/2020 12:27  Hey @Yankees @YankeesPR and @MLB - wouldn't it...   \n",
      "2       7/25/2020 12:27  @diane3443 @wdunlap @realDonaldTrump Trump nev...   \n",
      "3       7/25/2020 12:27  @brookbanktv The one gift #COVID19 has give me...   \n",
      "4       7/25/2020 12:27  25 July : Media Bulletin on Novel #CoronaVirus...   \n",
      "...                 ...                                                ...   \n",
      "179103  8/29/2020 19:44  Thanks @IamOhmai for nominating me for the @WH...   \n",
      "179104  8/29/2020 19:44  2020! The year of insanity! Lol! #COVID19 http...   \n",
      "179105  8/29/2020 19:44  @CTVNews A powerful painting by Juan Lucena. I...   \n",
      "179106  8/29/2020 19:44  More than 1,200 students test positive for #CO...   \n",
      "179107  8/29/2020 19:44  I stop when I see a Stop\\n\\n@SABCNews\\n@Izinda...   \n",
      "\n",
      "                                 hashtags               source  is_retweet  \n",
      "0                                     NaN   Twitter for iPhone       False  \n",
      "1                                     NaN  Twitter for Android       False  \n",
      "2                             ['COVID19']  Twitter for Android       False  \n",
      "3                             ['COVID19']   Twitter for iPhone       False  \n",
      "4       ['CoronaVirusUpdates', 'COVID19']  Twitter for Android       False  \n",
      "...                                   ...                  ...         ...  \n",
      "179103                      ['WearAMask']  Twitter for Android       False  \n",
      "179104                        ['COVID19']  Twitter for Android       False  \n",
      "179105                                NaN      Twitter Web App       False  \n",
      "179106                        ['COVID19']   Twitter for iPhone       False  \n",
      "179107                                NaN  Twitter for Android       False  \n",
      "\n",
      "[179108 rows x 13 columns]\n"
     ]
    }
   ],
   "source": [
    "print(cr)"
   ]
  },
  {
   "cell_type": "code",
   "execution_count": 4,
   "metadata": {},
   "outputs": [
    {
     "data": {
      "text/plain": [
       "(179108, 13)"
      ]
     },
     "execution_count": 4,
     "metadata": {},
     "output_type": "execute_result"
    }
   ],
   "source": [
    "cr.shape"
   ]
  },
  {
   "cell_type": "code",
   "execution_count": 5,
   "metadata": {},
   "outputs": [
    {
     "data": {
      "text/html": [
       "<div>\n",
       "<style scoped>\n",
       "    .dataframe tbody tr th:only-of-type {\n",
       "        vertical-align: middle;\n",
       "    }\n",
       "\n",
       "    .dataframe tbody tr th {\n",
       "        vertical-align: top;\n",
       "    }\n",
       "\n",
       "    .dataframe thead th {\n",
       "        text-align: right;\n",
       "    }\n",
       "</style>\n",
       "<table border=\"1\" class=\"dataframe\">\n",
       "  <thead>\n",
       "    <tr style=\"text-align: right;\">\n",
       "      <th></th>\n",
       "      <th>user_name</th>\n",
       "      <th>user_location</th>\n",
       "      <th>user_description</th>\n",
       "      <th>user_created</th>\n",
       "      <th>user_followers</th>\n",
       "      <th>user_friends</th>\n",
       "      <th>user_favourites</th>\n",
       "      <th>user_verified</th>\n",
       "      <th>date</th>\n",
       "      <th>text</th>\n",
       "      <th>hashtags</th>\n",
       "      <th>source</th>\n",
       "      <th>is_retweet</th>\n",
       "    </tr>\n",
       "  </thead>\n",
       "  <tbody>\n",
       "    <tr>\n",
       "      <td>0</td>\n",
       "      <td>áá¥â»Õ¬ê",
       "Ï®</td>\n",
       "      <td>astroworld</td>\n",
       "      <td>wednesday addams as a disney princess keepin i...</td>\n",
       "      <td>5/26/2017 5:46</td>\n",
       "      <td>624</td>\n",
       "      <td>950</td>\n",
       "      <td>18775</td>\n",
       "      <td>False</td>\n",
       "      <td>7/25/2020 12:27</td>\n",
       "      <td>If I smelled the scent of hand sanitizers toda...</td>\n",
       "      <td>NaN</td>\n",
       "      <td>Twitter for iPhone</td>\n",
       "      <td>False</td>\n",
       "    </tr>\n",
       "    <tr>\n",
       "      <td>1</td>\n",
       "      <td>Tom Basile ðºð¸</td>\n",
       "      <td>New York, NY</td>\n",
       "      <td>Husband, Father, Columnist &amp; Commentator. Auth...</td>\n",
       "      <td>4/16/2009 20:06</td>\n",
       "      <td>2253</td>\n",
       "      <td>1677</td>\n",
       "      <td>24</td>\n",
       "      <td>True</td>\n",
       "      <td>7/25/2020 12:27</td>\n",
       "      <td>Hey @Yankees @YankeesPR and @MLB - wouldn't it...</td>\n",
       "      <td>NaN</td>\n",
       "      <td>Twitter for Android</td>\n",
       "      <td>False</td>\n",
       "    </tr>\n",
       "    <tr>\n",
       "      <td>2</td>\n",
       "      <td>Time4fisticuffs</td>\n",
       "      <td>Pewee Valley, KY</td>\n",
       "      <td>#Christian #Catholic #Conservative #Reagan #Re...</td>\n",
       "      <td>2/28/2009 18:57</td>\n",
       "      <td>9275</td>\n",
       "      <td>9525</td>\n",
       "      <td>7254</td>\n",
       "      <td>False</td>\n",
       "      <td>7/25/2020 12:27</td>\n",
       "      <td>@diane3443 @wdunlap @realDonaldTrump Trump nev...</td>\n",
       "      <td>['COVID19']</td>\n",
       "      <td>Twitter for Android</td>\n",
       "      <td>False</td>\n",
       "    </tr>\n",
       "    <tr>\n",
       "      <td>3</td>\n",
       "      <td>ethel mertz</td>\n",
       "      <td>Stuck in the Middle</td>\n",
       "      <td>#Browns #Indians #ClevelandProud #[]_[] #Cavs ...</td>\n",
       "      <td>3/7/2019 1:45</td>\n",
       "      <td>197</td>\n",
       "      <td>987</td>\n",
       "      <td>1488</td>\n",
       "      <td>False</td>\n",
       "      <td>7/25/2020 12:27</td>\n",
       "      <td>@brookbanktv The one gift #COVID19 has give me...</td>\n",
       "      <td>['COVID19']</td>\n",
       "      <td>Twitter for iPhone</td>\n",
       "      <td>False</td>\n",
       "    </tr>\n",
       "    <tr>\n",
       "      <td>4</td>\n",
       "      <td>DIPR-J&amp;K</td>\n",
       "      <td>Jammu and Kashmir</td>\n",
       "      <td>ðï¸Official Twitter handle of Department o...</td>\n",
       "      <td>2/12/2017 6:45</td>\n",
       "      <td>101009</td>\n",
       "      <td>168</td>\n",
       "      <td>101</td>\n",
       "      <td>False</td>\n",
       "      <td>7/25/2020 12:27</td>\n",
       "      <td>25 July : Media Bulletin on Novel #CoronaVirus...</td>\n",
       "      <td>['CoronaVirusUpdates', 'COVID19']</td>\n",
       "      <td>Twitter for Android</td>\n",
       "      <td>False</td>\n",
       "    </tr>\n",
       "  </tbody>\n",
       "</table>\n",
       "</div>"
      ],
      "text/plain": [
       "             user_name         user_location  \\\n",
       "0     áá¥â»Õ¬ê\n",
       "Ï®            astroworld   \n",
       "1  Tom Basile ðºð¸          New York, NY   \n",
       "2      Time4fisticuffs      Pewee Valley, KY   \n",
       "3          ethel mertz  Stuck in the Middle    \n",
       "4             DIPR-J&K     Jammu and Kashmir   \n",
       "\n",
       "                                    user_description     user_created  \\\n",
       "0  wednesday addams as a disney princess keepin i...   5/26/2017 5:46   \n",
       "1  Husband, Father, Columnist & Commentator. Auth...  4/16/2009 20:06   \n",
       "2  #Christian #Catholic #Conservative #Reagan #Re...  2/28/2009 18:57   \n",
       "3  #Browns #Indians #ClevelandProud #[]_[] #Cavs ...    3/7/2019 1:45   \n",
       "4  ðï¸Official Twitter handle of Department o...   2/12/2017 6:45   \n",
       "\n",
       "   user_followers  user_friends  user_favourites  user_verified  \\\n",
       "0             624           950            18775          False   \n",
       "1            2253          1677               24           True   \n",
       "2            9275          9525             7254          False   \n",
       "3             197           987             1488          False   \n",
       "4          101009           168              101          False   \n",
       "\n",
       "              date                                               text  \\\n",
       "0  7/25/2020 12:27  If I smelled the scent of hand sanitizers toda...   \n",
       "1  7/25/2020 12:27  Hey @Yankees @YankeesPR and @MLB - wouldn't it...   \n",
       "2  7/25/2020 12:27  @diane3443 @wdunlap @realDonaldTrump Trump nev...   \n",
       "3  7/25/2020 12:27  @brookbanktv The one gift #COVID19 has give me...   \n",
       "4  7/25/2020 12:27  25 July : Media Bulletin on Novel #CoronaVirus...   \n",
       "\n",
       "                            hashtags               source  is_retweet  \n",
       "0                                NaN   Twitter for iPhone       False  \n",
       "1                                NaN  Twitter for Android       False  \n",
       "2                        ['COVID19']  Twitter for Android       False  \n",
       "3                        ['COVID19']   Twitter for iPhone       False  \n",
       "4  ['CoronaVirusUpdates', 'COVID19']  Twitter for Android       False  "
      ]
     },
     "execution_count": 5,
     "metadata": {},
     "output_type": "execute_result"
    }
   ],
   "source": [
    "cr.head()"
   ]
  },
  {
   "cell_type": "code",
   "execution_count": 6,
   "metadata": {},
   "outputs": [
    {
     "data": {
      "text/html": [
       "<div>\n",
       "<style scoped>\n",
       "    .dataframe tbody tr th:only-of-type {\n",
       "        vertical-align: middle;\n",
       "    }\n",
       "\n",
       "    .dataframe tbody tr th {\n",
       "        vertical-align: top;\n",
       "    }\n",
       "\n",
       "    .dataframe thead th {\n",
       "        text-align: right;\n",
       "    }\n",
       "</style>\n",
       "<table border=\"1\" class=\"dataframe\">\n",
       "  <thead>\n",
       "    <tr style=\"text-align: right;\">\n",
       "      <th></th>\n",
       "      <th>user_name</th>\n",
       "      <th>user_location</th>\n",
       "      <th>user_description</th>\n",
       "      <th>user_created</th>\n",
       "      <th>user_followers</th>\n",
       "      <th>user_friends</th>\n",
       "      <th>user_favourites</th>\n",
       "      <th>user_verified</th>\n",
       "      <th>date</th>\n",
       "      <th>text</th>\n",
       "      <th>hashtags</th>\n",
       "      <th>source</th>\n",
       "      <th>is_retweet</th>\n",
       "    </tr>\n",
       "  </thead>\n",
       "  <tbody>\n",
       "    <tr>\n",
       "      <td>179103</td>\n",
       "      <td>AJIMATI AbdulRahman O.</td>\n",
       "      <td>Ilorin, Nigeria</td>\n",
       "      <td>Animal Scientist|| Muslim|| Real Madrid/Chelsea</td>\n",
       "      <td>12/30/2013 18:59</td>\n",
       "      <td>412</td>\n",
       "      <td>1609</td>\n",
       "      <td>1062</td>\n",
       "      <td>False</td>\n",
       "      <td>8/29/2020 19:44</td>\n",
       "      <td>Thanks @IamOhmai for nominating me for the @WH...</td>\n",
       "      <td>['WearAMask']</td>\n",
       "      <td>Twitter for Android</td>\n",
       "      <td>False</td>\n",
       "    </tr>\n",
       "    <tr>\n",
       "      <td>179104</td>\n",
       "      <td>Jason</td>\n",
       "      <td>Ontario</td>\n",
       "      <td>When your cat has more baking soda than Ninja ...</td>\n",
       "      <td>12/21/2011 4:41</td>\n",
       "      <td>150</td>\n",
       "      <td>182</td>\n",
       "      <td>7295</td>\n",
       "      <td>False</td>\n",
       "      <td>8/29/2020 19:44</td>\n",
       "      <td>2020! The year of insanity! Lol! #COVID19 http...</td>\n",
       "      <td>['COVID19']</td>\n",
       "      <td>Twitter for Android</td>\n",
       "      <td>False</td>\n",
       "    </tr>\n",
       "    <tr>\n",
       "      <td>179105</td>\n",
       "      <td>BEEHEMOTH â³</td>\n",
       "      <td>ð¨ð¦ Canada</td>\n",
       "      <td>âï¸ The Architects of Free Trade âï¸ Rea...</td>\n",
       "      <td>7/13/2016 17:21</td>\n",
       "      <td>1623</td>\n",
       "      <td>2160</td>\n",
       "      <td>98000</td>\n",
       "      <td>False</td>\n",
       "      <td>8/29/2020 19:44</td>\n",
       "      <td>@CTVNews A powerful painting by Juan Lucena. I...</td>\n",
       "      <td>NaN</td>\n",
       "      <td>Twitter Web App</td>\n",
       "      <td>False</td>\n",
       "    </tr>\n",
       "    <tr>\n",
       "      <td>179106</td>\n",
       "      <td>Gary DelPonte</td>\n",
       "      <td>New York City</td>\n",
       "      <td>Global UX UI Visual Designer. StoryTeller, Mus...</td>\n",
       "      <td>10/27/2009 17:43</td>\n",
       "      <td>1338</td>\n",
       "      <td>1111</td>\n",
       "      <td>0</td>\n",
       "      <td>False</td>\n",
       "      <td>8/29/2020 19:44</td>\n",
       "      <td>More than 1,200 students test positive for #CO...</td>\n",
       "      <td>['COVID19']</td>\n",
       "      <td>Twitter for iPhone</td>\n",
       "      <td>False</td>\n",
       "    </tr>\n",
       "    <tr>\n",
       "      <td>179107</td>\n",
       "      <td>TUKY II</td>\n",
       "      <td>Aliwal North, South Africa</td>\n",
       "      <td>TOKELO SEKHOPA | TUKY II | LAST BORN | EISH TU...</td>\n",
       "      <td>4/14/2018 17:30</td>\n",
       "      <td>97</td>\n",
       "      <td>1697</td>\n",
       "      <td>566</td>\n",
       "      <td>False</td>\n",
       "      <td>8/29/2020 19:44</td>\n",
       "      <td>I stop when I see a Stop\\n\\n@SABCNews\\n@Izinda...</td>\n",
       "      <td>NaN</td>\n",
       "      <td>Twitter for Android</td>\n",
       "      <td>False</td>\n",
       "    </tr>\n",
       "  </tbody>\n",
       "</table>\n",
       "</div>"
      ],
      "text/plain": [
       "                     user_name               user_location  \\\n",
       "179103  AJIMATI AbdulRahman O.             Ilorin, Nigeria   \n",
       "179104                   Jason                     Ontario   \n",
       "179105           BEEHEMOTH â³             ð¨ð¦ Canada   \n",
       "179106           Gary DelPonte               New York City   \n",
       "179107                 TUKY II  Aliwal North, South Africa   \n",
       "\n",
       "                                         user_description      user_created  \\\n",
       "179103    Animal Scientist|| Muslim|| Real Madrid/Chelsea  12/30/2013 18:59   \n",
       "179104  When your cat has more baking soda than Ninja ...   12/21/2011 4:41   \n",
       "179105  âï¸ The Architects of Free Trade âï¸ Rea...   7/13/2016 17:21   \n",
       "179106  Global UX UI Visual Designer. StoryTeller, Mus...  10/27/2009 17:43   \n",
       "179107  TOKELO SEKHOPA | TUKY II | LAST BORN | EISH TU...   4/14/2018 17:30   \n",
       "\n",
       "        user_followers  user_friends  user_favourites  user_verified  \\\n",
       "179103             412          1609             1062          False   \n",
       "179104             150           182             7295          False   \n",
       "179105            1623          2160            98000          False   \n",
       "179106            1338          1111                0          False   \n",
       "179107              97          1697              566          False   \n",
       "\n",
       "                   date                                               text  \\\n",
       "179103  8/29/2020 19:44  Thanks @IamOhmai for nominating me for the @WH...   \n",
       "179104  8/29/2020 19:44  2020! The year of insanity! Lol! #COVID19 http...   \n",
       "179105  8/29/2020 19:44  @CTVNews A powerful painting by Juan Lucena. I...   \n",
       "179106  8/29/2020 19:44  More than 1,200 students test positive for #CO...   \n",
       "179107  8/29/2020 19:44  I stop when I see a Stop\\n\\n@SABCNews\\n@Izinda...   \n",
       "\n",
       "             hashtags               source  is_retweet  \n",
       "179103  ['WearAMask']  Twitter for Android       False  \n",
       "179104    ['COVID19']  Twitter for Android       False  \n",
       "179105            NaN      Twitter Web App       False  \n",
       "179106    ['COVID19']   Twitter for iPhone       False  \n",
       "179107            NaN  Twitter for Android       False  "
      ]
     },
     "execution_count": 6,
     "metadata": {},
     "output_type": "execute_result"
    }
   ],
   "source": [
    "cr.tail()"
   ]
  },
  {
   "cell_type": "code",
   "execution_count": 7,
   "metadata": {},
   "outputs": [
    {
     "data": {
      "text/html": [
       "<div>\n",
       "<style scoped>\n",
       "    .dataframe tbody tr th:only-of-type {\n",
       "        vertical-align: middle;\n",
       "    }\n",
       "\n",
       "    .dataframe tbody tr th {\n",
       "        vertical-align: top;\n",
       "    }\n",
       "\n",
       "    .dataframe thead th {\n",
       "        text-align: right;\n",
       "    }\n",
       "</style>\n",
       "<table border=\"1\" class=\"dataframe\">\n",
       "  <thead>\n",
       "    <tr style=\"text-align: right;\">\n",
       "      <th></th>\n",
       "      <th>user_followers</th>\n",
       "      <th>user_friends</th>\n",
       "      <th>user_favourites</th>\n",
       "    </tr>\n",
       "  </thead>\n",
       "  <tbody>\n",
       "    <tr>\n",
       "      <td>count</td>\n",
       "      <td>1.791080e+05</td>\n",
       "      <td>179108.000000</td>\n",
       "      <td>1.791080e+05</td>\n",
       "    </tr>\n",
       "    <tr>\n",
       "      <td>mean</td>\n",
       "      <td>1.090555e+05</td>\n",
       "      <td>2121.701566</td>\n",
       "      <td>1.444411e+04</td>\n",
       "    </tr>\n",
       "    <tr>\n",
       "      <td>std</td>\n",
       "      <td>8.414670e+05</td>\n",
       "      <td>9162.553072</td>\n",
       "      <td>4.452270e+04</td>\n",
       "    </tr>\n",
       "    <tr>\n",
       "      <td>min</td>\n",
       "      <td>0.000000e+00</td>\n",
       "      <td>0.000000</td>\n",
       "      <td>0.000000e+00</td>\n",
       "    </tr>\n",
       "    <tr>\n",
       "      <td>25%</td>\n",
       "      <td>1.720000e+02</td>\n",
       "      <td>148.000000</td>\n",
       "      <td>2.060000e+02</td>\n",
       "    </tr>\n",
       "    <tr>\n",
       "      <td>50%</td>\n",
       "      <td>9.920000e+02</td>\n",
       "      <td>542.000000</td>\n",
       "      <td>1.791000e+03</td>\n",
       "    </tr>\n",
       "    <tr>\n",
       "      <td>75%</td>\n",
       "      <td>5.284000e+03</td>\n",
       "      <td>1725.250000</td>\n",
       "      <td>9.388000e+03</td>\n",
       "    </tr>\n",
       "    <tr>\n",
       "      <td>max</td>\n",
       "      <td>4.944256e+07</td>\n",
       "      <td>497363.000000</td>\n",
       "      <td>2.047197e+06</td>\n",
       "    </tr>\n",
       "  </tbody>\n",
       "</table>\n",
       "</div>"
      ],
      "text/plain": [
       "       user_followers   user_friends  user_favourites\n",
       "count    1.791080e+05  179108.000000     1.791080e+05\n",
       "mean     1.090555e+05    2121.701566     1.444411e+04\n",
       "std      8.414670e+05    9162.553072     4.452270e+04\n",
       "min      0.000000e+00       0.000000     0.000000e+00\n",
       "25%      1.720000e+02     148.000000     2.060000e+02\n",
       "50%      9.920000e+02     542.000000     1.791000e+03\n",
       "75%      5.284000e+03    1725.250000     9.388000e+03\n",
       "max      4.944256e+07  497363.000000     2.047197e+06"
      ]
     },
     "execution_count": 7,
     "metadata": {},
     "output_type": "execute_result"
    }
   ],
   "source": [
    "cr.describe()"
   ]
  },
  {
   "cell_type": "markdown",
   "metadata": {},
   "source": [
    "# Checking the null values"
   ]
  },
  {
   "cell_type": "code",
   "execution_count": 8,
   "metadata": {},
   "outputs": [
    {
     "data": {
      "text/plain": [
       "user_name               0\n",
       "user_location       36771\n",
       "user_description    10286\n",
       "user_created            0\n",
       "user_followers          0\n",
       "user_friends            0\n",
       "user_favourites         0\n",
       "user_verified           0\n",
       "date                    0\n",
       "text                    0\n",
       "hashtags            51334\n",
       "source                 77\n",
       "is_retweet              0\n",
       "dtype: int64"
      ]
     },
     "execution_count": 8,
     "metadata": {},
     "output_type": "execute_result"
    }
   ],
   "source": [
    "cr.isnull().sum()"
   ]
  },
  {
   "cell_type": "code",
   "execution_count": 9,
   "metadata": {},
   "outputs": [],
   "source": [
    "cr[\"user_location\"].fillna(\"Not_Mentioned\", inplace = True) \n",
    "cr[\"user_description\"].fillna(\"Not_Mentioned\", inplace = True) \n",
    "cr[\"hashtags\"].fillna(\"Not_Mentioned\", inplace = True) "
   ]
  },
  {
   "cell_type": "code",
   "execution_count": 10,
   "metadata": {},
   "outputs": [
    {
     "data": {
      "text/plain": [
       "user_name            0\n",
       "user_location        0\n",
       "user_description     0\n",
       "user_created         0\n",
       "user_followers       0\n",
       "user_friends         0\n",
       "user_favourites      0\n",
       "user_verified        0\n",
       "date                 0\n",
       "text                 0\n",
       "hashtags             0\n",
       "source              77\n",
       "is_retweet           0\n",
       "dtype: int64"
      ]
     },
     "execution_count": 10,
     "metadata": {},
     "output_type": "execute_result"
    }
   ],
   "source": [
    "cr.isnull().sum() "
   ]
  },
  {
   "cell_type": "code",
   "execution_count": 11,
   "metadata": {},
   "outputs": [
    {
     "data": {
      "text/plain": [
       "(179108, 13)"
      ]
     },
     "execution_count": 11,
     "metadata": {},
     "output_type": "execute_result"
    }
   ],
   "source": [
    "cr.shape"
   ]
  },
  {
   "cell_type": "code",
   "execution_count": 12,
   "metadata": {},
   "outputs": [
    {
     "data": {
      "text/html": [
       "<div>\n",
       "<style scoped>\n",
       "    .dataframe tbody tr th:only-of-type {\n",
       "        vertical-align: middle;\n",
       "    }\n",
       "\n",
       "    .dataframe tbody tr th {\n",
       "        vertical-align: top;\n",
       "    }\n",
       "\n",
       "    .dataframe thead th {\n",
       "        text-align: right;\n",
       "    }\n",
       "</style>\n",
       "<table border=\"1\" class=\"dataframe\">\n",
       "  <thead>\n",
       "    <tr style=\"text-align: right;\">\n",
       "      <th></th>\n",
       "      <th>user_name</th>\n",
       "      <th>user_location</th>\n",
       "      <th>user_description</th>\n",
       "      <th>user_created</th>\n",
       "      <th>user_followers</th>\n",
       "      <th>user_friends</th>\n",
       "      <th>user_favourites</th>\n",
       "      <th>user_verified</th>\n",
       "      <th>date</th>\n",
       "      <th>text</th>\n",
       "      <th>hashtags</th>\n",
       "      <th>source</th>\n",
       "      <th>is_retweet</th>\n",
       "    </tr>\n",
       "  </thead>\n",
       "  <tbody>\n",
       "    <tr>\n",
       "      <td>0</td>\n",
       "      <td>áá¥â»Õ¬ê",
       "Ï®</td>\n",
       "      <td>astroworld</td>\n",
       "      <td>wednesday addams as a disney princess keepin i...</td>\n",
       "      <td>5/26/2017 5:46</td>\n",
       "      <td>624</td>\n",
       "      <td>950</td>\n",
       "      <td>18775</td>\n",
       "      <td>False</td>\n",
       "      <td>7/25/2020 12:27</td>\n",
       "      <td>If I smelled the scent of hand sanitizers toda...</td>\n",
       "      <td>Not_Mentioned</td>\n",
       "      <td>Twitter for iPhone</td>\n",
       "      <td>False</td>\n",
       "    </tr>\n",
       "    <tr>\n",
       "      <td>1</td>\n",
       "      <td>Tom Basile ðºð¸</td>\n",
       "      <td>New York, NY</td>\n",
       "      <td>Husband, Father, Columnist &amp; Commentator. Auth...</td>\n",
       "      <td>4/16/2009 20:06</td>\n",
       "      <td>2253</td>\n",
       "      <td>1677</td>\n",
       "      <td>24</td>\n",
       "      <td>True</td>\n",
       "      <td>7/25/2020 12:27</td>\n",
       "      <td>Hey @Yankees @YankeesPR and @MLB - wouldn't it...</td>\n",
       "      <td>Not_Mentioned</td>\n",
       "      <td>Twitter for Android</td>\n",
       "      <td>False</td>\n",
       "    </tr>\n",
       "    <tr>\n",
       "      <td>2</td>\n",
       "      <td>Time4fisticuffs</td>\n",
       "      <td>Pewee Valley, KY</td>\n",
       "      <td>#Christian #Catholic #Conservative #Reagan #Re...</td>\n",
       "      <td>2/28/2009 18:57</td>\n",
       "      <td>9275</td>\n",
       "      <td>9525</td>\n",
       "      <td>7254</td>\n",
       "      <td>False</td>\n",
       "      <td>7/25/2020 12:27</td>\n",
       "      <td>@diane3443 @wdunlap @realDonaldTrump Trump nev...</td>\n",
       "      <td>['COVID19']</td>\n",
       "      <td>Twitter for Android</td>\n",
       "      <td>False</td>\n",
       "    </tr>\n",
       "    <tr>\n",
       "      <td>3</td>\n",
       "      <td>ethel mertz</td>\n",
       "      <td>Stuck in the Middle</td>\n",
       "      <td>#Browns #Indians #ClevelandProud #[]_[] #Cavs ...</td>\n",
       "      <td>3/7/2019 1:45</td>\n",
       "      <td>197</td>\n",
       "      <td>987</td>\n",
       "      <td>1488</td>\n",
       "      <td>False</td>\n",
       "      <td>7/25/2020 12:27</td>\n",
       "      <td>@brookbanktv The one gift #COVID19 has give me...</td>\n",
       "      <td>['COVID19']</td>\n",
       "      <td>Twitter for iPhone</td>\n",
       "      <td>False</td>\n",
       "    </tr>\n",
       "    <tr>\n",
       "      <td>4</td>\n",
       "      <td>DIPR-J&amp;K</td>\n",
       "      <td>Jammu and Kashmir</td>\n",
       "      <td>ðï¸Official Twitter handle of Department o...</td>\n",
       "      <td>2/12/2017 6:45</td>\n",
       "      <td>101009</td>\n",
       "      <td>168</td>\n",
       "      <td>101</td>\n",
       "      <td>False</td>\n",
       "      <td>7/25/2020 12:27</td>\n",
       "      <td>25 July : Media Bulletin on Novel #CoronaVirus...</td>\n",
       "      <td>['CoronaVirusUpdates', 'COVID19']</td>\n",
       "      <td>Twitter for Android</td>\n",
       "      <td>False</td>\n",
       "    </tr>\n",
       "    <tr>\n",
       "      <td>...</td>\n",
       "      <td>...</td>\n",
       "      <td>...</td>\n",
       "      <td>...</td>\n",
       "      <td>...</td>\n",
       "      <td>...</td>\n",
       "      <td>...</td>\n",
       "      <td>...</td>\n",
       "      <td>...</td>\n",
       "      <td>...</td>\n",
       "      <td>...</td>\n",
       "      <td>...</td>\n",
       "      <td>...</td>\n",
       "      <td>...</td>\n",
       "    </tr>\n",
       "    <tr>\n",
       "      <td>179103</td>\n",
       "      <td>AJIMATI AbdulRahman O.</td>\n",
       "      <td>Ilorin, Nigeria</td>\n",
       "      <td>Animal Scientist|| Muslim|| Real Madrid/Chelsea</td>\n",
       "      <td>12/30/2013 18:59</td>\n",
       "      <td>412</td>\n",
       "      <td>1609</td>\n",
       "      <td>1062</td>\n",
       "      <td>False</td>\n",
       "      <td>8/29/2020 19:44</td>\n",
       "      <td>Thanks @IamOhmai for nominating me for the @WH...</td>\n",
       "      <td>['WearAMask']</td>\n",
       "      <td>Twitter for Android</td>\n",
       "      <td>False</td>\n",
       "    </tr>\n",
       "    <tr>\n",
       "      <td>179104</td>\n",
       "      <td>Jason</td>\n",
       "      <td>Ontario</td>\n",
       "      <td>When your cat has more baking soda than Ninja ...</td>\n",
       "      <td>12/21/2011 4:41</td>\n",
       "      <td>150</td>\n",
       "      <td>182</td>\n",
       "      <td>7295</td>\n",
       "      <td>False</td>\n",
       "      <td>8/29/2020 19:44</td>\n",
       "      <td>2020! The year of insanity! Lol! #COVID19 http...</td>\n",
       "      <td>['COVID19']</td>\n",
       "      <td>Twitter for Android</td>\n",
       "      <td>False</td>\n",
       "    </tr>\n",
       "    <tr>\n",
       "      <td>179105</td>\n",
       "      <td>BEEHEMOTH â³</td>\n",
       "      <td>ð¨ð¦ Canada</td>\n",
       "      <td>âï¸ The Architects of Free Trade âï¸ Rea...</td>\n",
       "      <td>7/13/2016 17:21</td>\n",
       "      <td>1623</td>\n",
       "      <td>2160</td>\n",
       "      <td>98000</td>\n",
       "      <td>False</td>\n",
       "      <td>8/29/2020 19:44</td>\n",
       "      <td>@CTVNews A powerful painting by Juan Lucena. I...</td>\n",
       "      <td>Not_Mentioned</td>\n",
       "      <td>Twitter Web App</td>\n",
       "      <td>False</td>\n",
       "    </tr>\n",
       "    <tr>\n",
       "      <td>179106</td>\n",
       "      <td>Gary DelPonte</td>\n",
       "      <td>New York City</td>\n",
       "      <td>Global UX UI Visual Designer. StoryTeller, Mus...</td>\n",
       "      <td>10/27/2009 17:43</td>\n",
       "      <td>1338</td>\n",
       "      <td>1111</td>\n",
       "      <td>0</td>\n",
       "      <td>False</td>\n",
       "      <td>8/29/2020 19:44</td>\n",
       "      <td>More than 1,200 students test positive for #CO...</td>\n",
       "      <td>['COVID19']</td>\n",
       "      <td>Twitter for iPhone</td>\n",
       "      <td>False</td>\n",
       "    </tr>\n",
       "    <tr>\n",
       "      <td>179107</td>\n",
       "      <td>TUKY II</td>\n",
       "      <td>Aliwal North, South Africa</td>\n",
       "      <td>TOKELO SEKHOPA | TUKY II | LAST BORN | EISH TU...</td>\n",
       "      <td>4/14/2018 17:30</td>\n",
       "      <td>97</td>\n",
       "      <td>1697</td>\n",
       "      <td>566</td>\n",
       "      <td>False</td>\n",
       "      <td>8/29/2020 19:44</td>\n",
       "      <td>I stop when I see a Stop\\n\\n@SABCNews\\n@Izinda...</td>\n",
       "      <td>Not_Mentioned</td>\n",
       "      <td>Twitter for Android</td>\n",
       "      <td>False</td>\n",
       "    </tr>\n",
       "  </tbody>\n",
       "</table>\n",
       "<p>179031 rows × 13 columns</p>\n",
       "</div>"
      ],
      "text/plain": [
       "                     user_name               user_location  \\\n",
       "0             áá¥â»Õ¬ê\n",
       "Ï®                  astroworld   \n",
       "1          Tom Basile ðºð¸                New York, NY   \n",
       "2              Time4fisticuffs            Pewee Valley, KY   \n",
       "3                  ethel mertz        Stuck in the Middle    \n",
       "4                     DIPR-J&K           Jammu and Kashmir   \n",
       "...                        ...                         ...   \n",
       "179103  AJIMATI AbdulRahman O.             Ilorin, Nigeria   \n",
       "179104                   Jason                     Ontario   \n",
       "179105           BEEHEMOTH â³             ð¨ð¦ Canada   \n",
       "179106           Gary DelPonte               New York City   \n",
       "179107                 TUKY II  Aliwal North, South Africa   \n",
       "\n",
       "                                         user_description      user_created  \\\n",
       "0       wednesday addams as a disney princess keepin i...    5/26/2017 5:46   \n",
       "1       Husband, Father, Columnist & Commentator. Auth...   4/16/2009 20:06   \n",
       "2       #Christian #Catholic #Conservative #Reagan #Re...   2/28/2009 18:57   \n",
       "3       #Browns #Indians #ClevelandProud #[]_[] #Cavs ...     3/7/2019 1:45   \n",
       "4       ðï¸Official Twitter handle of Department o...    2/12/2017 6:45   \n",
       "...                                                   ...               ...   \n",
       "179103    Animal Scientist|| Muslim|| Real Madrid/Chelsea  12/30/2013 18:59   \n",
       "179104  When your cat has more baking soda than Ninja ...   12/21/2011 4:41   \n",
       "179105  âï¸ The Architects of Free Trade âï¸ Rea...   7/13/2016 17:21   \n",
       "179106  Global UX UI Visual Designer. StoryTeller, Mus...  10/27/2009 17:43   \n",
       "179107  TOKELO SEKHOPA | TUKY II | LAST BORN | EISH TU...   4/14/2018 17:30   \n",
       "\n",
       "        user_followers  user_friends  user_favourites  user_verified  \\\n",
       "0                  624           950            18775          False   \n",
       "1                 2253          1677               24           True   \n",
       "2                 9275          9525             7254          False   \n",
       "3                  197           987             1488          False   \n",
       "4               101009           168              101          False   \n",
       "...                ...           ...              ...            ...   \n",
       "179103             412          1609             1062          False   \n",
       "179104             150           182             7295          False   \n",
       "179105            1623          2160            98000          False   \n",
       "179106            1338          1111                0          False   \n",
       "179107              97          1697              566          False   \n",
       "\n",
       "                   date                                               text  \\\n",
       "0       7/25/2020 12:27  If I smelled the scent of hand sanitizers toda...   \n",
       "1       7/25/2020 12:27  Hey @Yankees @YankeesPR and @MLB - wouldn't it...   \n",
       "2       7/25/2020 12:27  @diane3443 @wdunlap @realDonaldTrump Trump nev...   \n",
       "3       7/25/2020 12:27  @brookbanktv The one gift #COVID19 has give me...   \n",
       "4       7/25/2020 12:27  25 July : Media Bulletin on Novel #CoronaVirus...   \n",
       "...                 ...                                                ...   \n",
       "179103  8/29/2020 19:44  Thanks @IamOhmai for nominating me for the @WH...   \n",
       "179104  8/29/2020 19:44  2020! The year of insanity! Lol! #COVID19 http...   \n",
       "179105  8/29/2020 19:44  @CTVNews A powerful painting by Juan Lucena. I...   \n",
       "179106  8/29/2020 19:44  More than 1,200 students test positive for #CO...   \n",
       "179107  8/29/2020 19:44  I stop when I see a Stop\\n\\n@SABCNews\\n@Izinda...   \n",
       "\n",
       "                                 hashtags               source  is_retweet  \n",
       "0                           Not_Mentioned   Twitter for iPhone       False  \n",
       "1                           Not_Mentioned  Twitter for Android       False  \n",
       "2                             ['COVID19']  Twitter for Android       False  \n",
       "3                             ['COVID19']   Twitter for iPhone       False  \n",
       "4       ['CoronaVirusUpdates', 'COVID19']  Twitter for Android       False  \n",
       "...                                   ...                  ...         ...  \n",
       "179103                      ['WearAMask']  Twitter for Android       False  \n",
       "179104                        ['COVID19']  Twitter for Android       False  \n",
       "179105                      Not_Mentioned      Twitter Web App       False  \n",
       "179106                        ['COVID19']   Twitter for iPhone       False  \n",
       "179107                      Not_Mentioned  Twitter for Android       False  \n",
       "\n",
       "[179031 rows x 13 columns]"
      ]
     },
     "execution_count": 12,
     "metadata": {},
     "output_type": "execute_result"
    }
   ],
   "source": [
    "cr.dropna()"
   ]
  },
  {
   "cell_type": "code",
   "execution_count": 13,
   "metadata": {},
   "outputs": [
    {
     "data": {
      "text/plain": [
       "(179108, 13)"
      ]
     },
     "execution_count": 13,
     "metadata": {},
     "output_type": "execute_result"
    }
   ],
   "source": [
    "cr.shape"
   ]
  },
  {
   "cell_type": "markdown",
   "metadata": {},
   "source": [
    "# Analyzing tha date column of dataset"
   ]
  },
  {
   "cell_type": "code",
   "execution_count": 14,
   "metadata": {},
   "outputs": [
    {
     "data": {
      "text/plain": [
       "7/29/2020 16:00    196\n",
       "8/6/2020 16:00     193\n",
       "8/7/2020 13:00     167\n",
       "8/10/2020 16:00    162\n",
       "8/6/2020 15:00     153\n",
       "8/18/2020 18:00    136\n",
       "8/18/2020 16:00    132\n",
       "7/31/2020 18:00    129\n",
       "8/6/2020 15:30     128\n",
       "7/31/2020 19:00    128\n",
       "8/18/2020 17:00    127\n",
       "8/10/2020 15:30    124\n",
       "7/31/2020 17:30    124\n",
       "8/6/2020 15:03     121\n",
       "8/6/2020 16:30     118\n",
       "7/29/2020 16:03    113\n",
       "8/13/2020 9:00     111\n",
       "7/29/2020 16:04    109\n",
       "8/1/2020 16:00     106\n",
       "7/29/2020 16:05    106\n",
       "7/31/2020 18:30    106\n",
       "8/11/2020 10:00    103\n",
       "7/29/2020 16:01    102\n",
       "8/8/2020 13:00     101\n",
       "8/8/2020 14:00     100\n",
       "7/30/2020 20:30    100\n",
       "7/29/2020 16:20     99\n",
       "8/10/2020 15:15     99\n",
       "7/29/2020 16:30     99\n",
       "8/10/2020 16:15     98\n",
       "Name: date, dtype: int64"
      ]
     },
     "execution_count": 14,
     "metadata": {},
     "output_type": "execute_result"
    }
   ],
   "source": [
    "cr['date'].value_counts().head(30)"
   ]
  },
  {
   "cell_type": "code",
   "execution_count": 15,
   "metadata": {},
   "outputs": [
    {
     "data": {
      "text/plain": [
       "<matplotlib.axes._subplots.AxesSubplot at 0x1f18bc11e88>"
      ]
     },
     "execution_count": 15,
     "metadata": {},
     "output_type": "execute_result"
    },
    {
     "data": {
      "image/png": "[encoded data removed]",
      "text/plain": [
       "<Figure size 1440x720 with 1 Axes>"
      ]
     },
     "metadata": {
      "needs_background": "light"
     },
     "output_type": "display_data"
    }
   ],
   "source": [
    "cr['date'].value_counts().head(15).plot(kind='barh', figsize=(20,10))"
   ]
  },
  {
   "cell_type": "code",
   "execution_count": 16,
   "metadata": {},
   "outputs": [],
   "source": [
    "# From analysis it is concluded that most number of tweets were done on 29/7/2020\n",
    "# Most number of tweets were done in August month"
   ]
  },
  {
   "cell_type": "markdown",
   "metadata": {},
   "source": [
    "# Analyzing the Locations column"
   ]
  },
  {
   "cell_type": "code",
   "execution_count": 17,
   "metadata": {},
   "outputs": [
    {
     "data": {
      "text/plain": [
       "Not_Mentioned                 36771\n",
       "India                          3741\n",
       "United States                  2455\n",
       "New Delhi, India               1721\n",
       "Mumbai, India                  1401\n",
       "Washington, DC                 1354\n",
       "London, England                1269\n",
       "United Kingdom                 1206\n",
       "London                         1103\n",
       "New York, NY                   1082\n",
       "Australia                       964\n",
       "Worldwide                       879\n",
       "Canada                          835\n",
       "New Delhi                       822\n",
       "USA                             817\n",
       "UK                              803\n",
       "WORLDWIDE                       777\n",
       "Los Angeles, CA                 776\n",
       "South Africa                    766\n",
       "Lagos, Nigeria                  731\n",
       "California, USA                 709\n",
       "Global                          688\n",
       "Nairobi, Kenya                  618\n",
       "Nigeria                         579\n",
       "Atlanta, GA                     578\n",
       "Chicago, IL                     561\n",
       "Switzerland                     551\n",
       "Mumbai                          523\n",
       "Earth                           516\n",
       "Johannesburg, South Africa      493\n",
       "Name: user_location, dtype: int64"
      ]
     },
     "execution_count": 17,
     "metadata": {},
     "output_type": "execute_result"
    }
   ],
   "source": [
    "cr['user_location'].value_counts().head(30)"
   ]
  },
  {
   "cell_type": "code",
   "execution_count": 18,
   "metadata": {},
   "outputs": [
    {
     "data": {
      "text/plain": [
       "<matplotlib.axes._subplots.AxesSubplot at 0x1f18ca8ca08>"
      ]
     },
     "execution_count": 18,
     "metadata": {},
     "output_type": "execute_result"
    },
    {
     "data": {
      "image/png": "[encoded data removed]",
      "text/plain": [
       "<Figure size 1440x720 with 1 Axes>"
      ]
     },
     "metadata": {
      "needs_background": "light"
     },
     "output_type": "display_data"
    }
   ],
   "source": [
    "cr['user_location'].value_counts().head(15).plot(kind='barh', figsize=(20,10))"
   ]
  },
  {
   "cell_type": "code",
   "execution_count": 19,
   "metadata": {},
   "outputs": [],
   "source": [
    "# Most number of tweets were done from India followed by the United States.\n",
    "# In India most number of tweets were done from New Delhi and Mumbai, while in United States most tweets were\n",
    "# done from Washington DC, followed by London, England"
   ]
  },
  {
   "cell_type": "markdown",
   "metadata": {},
   "source": [
    "# Analyzing the User names of the dataset"
   ]
  },
  {
   "cell_type": "code",
   "execution_count": 20,
   "metadata": {},
   "outputs": [
    {
     "data": {
      "text/plain": [
       "GlobalPandemic.NET                         679\n",
       "Coronavirus Updates                        625\n",
       "covidnews.ch                               402\n",
       "Open Letters                               390\n",
       "Blood Donors India                         282\n",
       "Hindustan Times                            280\n",
       "IAM Platform                               266\n",
       "Paperbirds_Coronavirus                     259\n",
       "IANS Tweets                                244\n",
       "ANI                                        233\n",
       "Coronavirus Updates - Alexander Higgins    225\n",
       "OTV                                        220\n",
       "Dushyant Vachhani                          220\n",
       "ABS-CBN News                               218\n",
       "Covid Data                                 208\n",
       "#IndiaFightsCorona                         199\n",
       "The New Indian Express                     197\n",
       "COVID Scale                                191\n",
       "APO Group English                          180\n",
       "Sambad English                             177\n",
       "Coronavirus_Scotland                       150\n",
       "ABS-CBN News Channel                       145\n",
       "National Cyber Security                    143\n",
       "Hotpage News                               142\n",
       "ActivistBowen                              140\n",
       "Novel Coronavirus - Covid19                137\n",
       "Deccan Herald                              136\n",
       "Integral Overview                          133\n",
       "LatestLY                                   132\n",
       "The Pioneer                                132\n",
       "Name: user_name, dtype: int64"
      ]
     },
     "execution_count": 20,
     "metadata": {},
     "output_type": "execute_result"
    }
   ],
   "source": [
    "cr['user_name'].value_counts().head(30)"
   ]
  },
  {
   "cell_type": "code",
   "execution_count": 21,
   "metadata": {},
   "outputs": [
    {
     "data": {
      "text/plain": [
       "<matplotlib.axes._subplots.AxesSubplot at 0x1f18c701748>"
      ]
     },
     "execution_count": 21,
     "metadata": {},
     "output_type": "execute_result"
    },
    {
     "data": {
      "image/png": "[encoded data removed]",
      "text/plain": [
       "<Figure size 1440x720 with 1 Axes>"
      ]
     },
     "metadata": {
      "needs_background": "light"
     },
     "output_type": "display_data"
    }
   ],
   "source": [
    "cr['user_name'].value_counts().head(15).plot(kind='barh', figsize=(20,10))"
   ]
  },
  {
   "cell_type": "code",
   "execution_count": 22,
   "metadata": {},
   "outputs": [],
   "source": [
    "# Most number of tweets were done from GlobalPandemic.NET, followed by Coronavirus Updates, and covidnews.ch"
   ]
  },
  {
   "cell_type": "markdown",
   "metadata": {},
   "source": [
    "# Analyzing the sources of the tweets"
   ]
  },
  {
   "cell_type": "code",
   "execution_count": 23,
   "metadata": {},
   "outputs": [
    {
     "data": {
      "text/plain": [
       "Twitter Web App            56891\n",
       "Twitter for Android        40179\n",
       "Twitter for iPhone         35472\n",
       "TweetDeck                   8543\n",
       "Hootsuite Inc.              7321\n",
       "Twitter for iPad            4336\n",
       "Buffer                      2728\n",
       "Sprout Social               1833\n",
       "Instagram                   1759\n",
       "IFTTT                       1545\n",
       "dlvr.it                      681\n",
       "GlobalPandemic.NET           679\n",
       "LinkedIn                     628\n",
       "COVID19-Updates              625\n",
       "Twitter Media Studio         596\n",
       "WordPress.com                537\n",
       "HubSpot                      513\n",
       "Sprinklr                     497\n",
       "FS Poster                    414\n",
       "Dynamic Signal               391\n",
       "Resistbot Open Letters       390\n",
       "Cheap Bots, Done Quick!      335\n",
       "Paper.li                     322\n",
       "Twitter for Advertisers      317\n",
       "Blood Donors India           281\n",
       "IAMBLOG2TWITTER              266\n",
       "Alexander Higgins            225\n",
       "Zoho Social                  224\n",
       "The Social Jukebox           216\n",
       "Fabrik.fm                    209\n",
       "Name: source, dtype: int64"
      ]
     },
     "execution_count": 23,
     "metadata": {},
     "output_type": "execute_result"
    }
   ],
   "source": [
    "cr['source'].value_counts().head(30)"
   ]
  },
  {
   "cell_type": "code",
   "execution_count": 24,
   "metadata": {},
   "outputs": [
    {
     "data": {
      "text/plain": [
       "<matplotlib.axes._subplots.AxesSubplot at 0x1f18cd7b588>"
      ]
     },
     "execution_count": 24,
     "metadata": {},
     "output_type": "execute_result"
    },
    {
     "data": {
      "image/png": "[encoded data removed]",
      "text/plain": [
       "<Figure size 1440x720 with 1 Axes>"
      ]
     },
     "metadata": {
      "needs_background": "light"
     },
     "output_type": "display_data"
    }
   ],
   "source": [
    "cr['source'].value_counts().head(15).plot(kind='barh', figsize=(20,10))"
   ]
  },
  {
   "cell_type": "code",
   "execution_count": 25,
   "metadata": {},
   "outputs": [],
   "source": [
    "# Most number of tweets were donw from Web Application. Second most preferred sources of tweets is Android \n",
    "# mobile phone, and next preferred source is iPhone."
   ]
  },
  {
   "cell_type": "markdown",
   "metadata": {},
   "source": [
    "# Analyze the hashtag used in the tweets "
   ]
  },
  {
   "cell_type": "code",
   "execution_count": 26,
   "metadata": {},
   "outputs": [
    {
     "data": {
      "text/plain": [
       "Not_Mentioned                                                             51334\n",
       "['COVID19']                                                               37792\n",
       "['Covid19']                                                                4834\n",
       "['covid19']                                                                3124\n",
       "['coronavirus', 'CoronaVirusUpdate', 'COVID19', 'CoronavirusPandemic']      624\n",
       "['coronavirus']                                                             550\n",
       "['COVID19', 'coronavirus']                                                  519\n",
       "['Coronavirus', 'COVID19']                                                  503\n",
       "['coronavirus', 'COVID19']                                                  491\n",
       "['CoronaVirusUpdates', 'COVID19']                                           319\n",
       "['Coronavirus']                                                             262\n",
       "['IndiaFightsCorona', 'COVID19']                                            206\n",
       "['coronavirus', 'covid19']                                                  202\n",
       "['India', 'COVID19']                                                        162\n",
       "['Odisha', 'COVID19']                                                       151\n",
       "['coronavirus', 'COVID19', '2019ncov']                                      147\n",
       "['COVID19', 'Coronavirus']                                                  146\n",
       "['COVID19', 'vaccine']                                                      135\n",
       "['COVID19', 'Odisha']                                                       135\n",
       "['COVID19', 'pandemic']                                                     128\n",
       "['COVID19', 'COVID19']                                                      122\n",
       "['corona']                                                                  120\n",
       "['Trump']                                                                   120\n",
       "['coronavirus', 'COVID19', 'COVID_19']                                      111\n",
       "['coronavirus', 'scams', 'covid19']                                         104\n",
       "['covid19', 'kids', 'childern']                                             103\n",
       "['CoronaInfoCH', 'COVID19', 'corona', 'us']                                 102\n",
       "['moneyforthepeople', 'covid19']                                            101\n",
       "['BREAKING', 'COVID19']                                                      97\n",
       "['pandemic']                                                                 94\n",
       "Name: hashtags, dtype: int64"
      ]
     },
     "execution_count": 26,
     "metadata": {},
     "output_type": "execute_result"
    }
   ],
   "source": [
    "cr['hashtags'].value_counts().head(30)"
   ]
  },
  {
   "cell_type": "code",
   "execution_count": 27,
   "metadata": {},
   "outputs": [
    {
     "data": {
      "text/plain": [
       "<matplotlib.axes._subplots.AxesSubplot at 0x1f18f839248>"
      ]
     },
     "execution_count": 27,
     "metadata": {},
     "output_type": "execute_result"
    },
    {
     "data": {
      "image/png": "[encoded data removed]",
      "text/plain": [
       "<Figure size 1440x720 with 1 Axes>"
      ]
     },
     "metadata": {
      "needs_background": "light"
     },
     "output_type": "display_data"
    }
   ],
   "source": [
    "cr['hashtags'].value_counts().head(15).plot(kind='barh', figsize=(20,10))"
   ]
  },
  {
   "cell_type": "code",
   "execution_count": 28,
   "metadata": {},
   "outputs": [],
   "source": [
    "# In most of the tweets 'COVID 19'is used as a hashtag. Another preferred hashtag in tweets is 'Covid 19' and \n",
    "# 'covid 19'"
   ]
  },
  {
   "cell_type": "code",
   "execution_count": 29,
   "metadata": {},
   "outputs": [
    {
     "name": "stdout",
     "output_type": "stream",
     "text": [
      "Requirement already satisfied: textblob in f:\\phython\\lib\\site-packages (0.15.3)\n",
      "Requirement already satisfied: nltk>=3.1 in f:\\phython\\lib\\site-packages (from textblob) (3.4.5)\n",
      "Requirement already satisfied: six in f:\\phython\\lib\\site-packages (from nltk>=3.1->textblob) (1.12.0)\n",
      "Note: you may need to restart the kernel to use updated packages.\n"
     ]
    }
   ],
   "source": [
    "pip install textblob"
   ]
  },
  {
   "cell_type": "code",
   "execution_count": 30,
   "metadata": {},
   "outputs": [],
   "source": [
    "import textblob"
   ]
  },
  {
   "cell_type": "code",
   "execution_count": 31,
   "metadata": {},
   "outputs": [],
   "source": [
    "from textblob import TextBlob, Word"
   ]
  },
  {
   "cell_type": "code",
   "execution_count": 32,
   "metadata": {},
   "outputs": [],
   "source": [
    "from socket import socket"
   ]
  },
  {
   "cell_type": "code",
   "execution_count": 33,
   "metadata": {},
   "outputs": [
    {
     "data": {
      "text/plain": [
       "Index(['user_name', 'user_location', 'user_description', 'user_created',\n",
       "       'user_followers', 'user_friends', 'user_favourites', 'user_verified',\n",
       "       'date', 'text', 'hashtags', 'source', 'is_retweet'],\n",
       "      dtype='object')"
      ]
     },
     "execution_count": 33,
     "metadata": {},
     "output_type": "execute_result"
    }
   ],
   "source": [
    "cr.columns"
   ]
  },
  {
   "cell_type": "code",
   "execution_count": 34,
   "metadata": {},
   "outputs": [
    {
     "data": {
      "text/html": [
       "<div>\n",
       "<style scoped>\n",
       "    .dataframe tbody tr th:only-of-type {\n",
       "        vertical-align: middle;\n",
       "    }\n",
       "\n",
       "    .dataframe tbody tr th {\n",
       "        vertical-align: top;\n",
       "    }\n",
       "\n",
       "    .dataframe thead th {\n",
       "        text-align: right;\n",
       "    }\n",
       "</style>\n",
       "<table border=\"1\" class=\"dataframe\">\n",
       "  <thead>\n",
       "    <tr style=\"text-align: right;\">\n",
       "      <th></th>\n",
       "      <th>text</th>\n",
       "      <th>sentiment</th>\n",
       "    </tr>\n",
       "  </thead>\n",
       "  <tbody>\n",
       "    <tr>\n",
       "      <td>0</td>\n",
       "      <td>If I smelled the scent of hand sanitizers toda...</td>\n",
       "      <td>-0.25</td>\n",
       "    </tr>\n",
       "    <tr>\n",
       "      <td>1</td>\n",
       "      <td>Hey @Yankees @YankeesPR and @MLB - wouldn't it...</td>\n",
       "      <td>0.50</td>\n",
       "    </tr>\n",
       "    <tr>\n",
       "      <td>2</td>\n",
       "      <td>@diane3443 @wdunlap @realDonaldTrump Trump nev...</td>\n",
       "      <td>0.00</td>\n",
       "    </tr>\n",
       "    <tr>\n",
       "      <td>3</td>\n",
       "      <td>@brookbanktv The one gift #COVID19 has give me...</td>\n",
       "      <td>0.00</td>\n",
       "    </tr>\n",
       "    <tr>\n",
       "      <td>4</td>\n",
       "      <td>25 July : Media Bulletin on Novel #CoronaVirus...</td>\n",
       "      <td>0.00</td>\n",
       "    </tr>\n",
       "  </tbody>\n",
       "</table>\n",
       "</div>"
      ],
      "text/plain": [
       "                                                text  sentiment\n",
       "0  If I smelled the scent of hand sanitizers toda...      -0.25\n",
       "1  Hey @Yankees @YankeesPR and @MLB - wouldn't it...       0.50\n",
       "2  @diane3443 @wdunlap @realDonaldTrump Trump nev...       0.00\n",
       "3  @brookbanktv The one gift #COVID19 has give me...       0.00\n",
       "4  25 July : Media Bulletin on Novel #CoronaVirus...       0.00"
      ]
     },
     "execution_count": 34,
     "metadata": {},
     "output_type": "execute_result"
    }
   ],
   "source": [
    "cr['sentiment'] = cr['text'][:20].apply(lambda x: TextBlob(x).sentiment[0])\n",
    "cr[['text','sentiment']].head(5)"
   ]
  },
  {
   "cell_type": "code",
   "execution_count": 35,
   "metadata": {},
   "outputs": [
    {
     "data": {
      "text/html": [
       "<div>\n",
       "<style scoped>\n",
       "    .dataframe tbody tr th:only-of-type {\n",
       "        vertical-align: middle;\n",
       "    }\n",
       "\n",
       "    .dataframe tbody tr th {\n",
       "        vertical-align: top;\n",
       "    }\n",
       "\n",
       "    .dataframe thead th {\n",
       "        text-align: right;\n",
       "    }\n",
       "</style>\n",
       "<table border=\"1\" class=\"dataframe\">\n",
       "  <thead>\n",
       "    <tr style=\"text-align: right;\">\n",
       "      <th></th>\n",
       "      <th>text</th>\n",
       "      <th>sentiment</th>\n",
       "    </tr>\n",
       "  </thead>\n",
       "  <tbody>\n",
       "    <tr>\n",
       "      <td>0</td>\n",
       "      <td>If I smelled the scent of hand sanitizers toda...</td>\n",
       "      <td>-0.250000</td>\n",
       "    </tr>\n",
       "    <tr>\n",
       "      <td>1</td>\n",
       "      <td>Hey @Yankees @YankeesPR and @MLB - wouldn't it...</td>\n",
       "      <td>0.500000</td>\n",
       "    </tr>\n",
       "    <tr>\n",
       "      <td>2</td>\n",
       "      <td>@diane3443 @wdunlap @realDonaldTrump Trump nev...</td>\n",
       "      <td>0.000000</td>\n",
       "    </tr>\n",
       "    <tr>\n",
       "      <td>3</td>\n",
       "      <td>@brookbanktv The one gift #COVID19 has give me...</td>\n",
       "      <td>0.000000</td>\n",
       "    </tr>\n",
       "    <tr>\n",
       "      <td>4</td>\n",
       "      <td>25 July : Media Bulletin on Novel #CoronaVirus...</td>\n",
       "      <td>0.000000</td>\n",
       "    </tr>\n",
       "    <tr>\n",
       "      <td>5</td>\n",
       "      <td>#coronavirus #covid19 deaths continue to rise....</td>\n",
       "      <td>-0.700000</td>\n",
       "    </tr>\n",
       "    <tr>\n",
       "      <td>6</td>\n",
       "      <td>How #COVID19 Will Change Work in General (and ...</td>\n",
       "      <td>0.050000</td>\n",
       "    </tr>\n",
       "    <tr>\n",
       "      <td>7</td>\n",
       "      <td>You now have to wear face coverings when out s...</td>\n",
       "      <td>0.000000</td>\n",
       "    </tr>\n",
       "    <tr>\n",
       "      <td>8</td>\n",
       "      <td>Praying for good health and recovery of @Chouh...</td>\n",
       "      <td>0.700000</td>\n",
       "    </tr>\n",
       "    <tr>\n",
       "      <td>9</td>\n",
       "      <td>POPE AS GOD - Prophet Sadhu Sundar Selvaraj. W...</td>\n",
       "      <td>0.000000</td>\n",
       "    </tr>\n",
       "    <tr>\n",
       "      <td>10</td>\n",
       "      <td>49K+ Covid19 cases still no response from \\n@c...</td>\n",
       "      <td>0.000000</td>\n",
       "    </tr>\n",
       "    <tr>\n",
       "      <td>11</td>\n",
       "      <td>Order here: https://t.co/4NUrGX6EmA\\n\\n#logo #...</td>\n",
       "      <td>0.000000</td>\n",
       "    </tr>\n",
       "    <tr>\n",
       "      <td>12</td>\n",
       "      <td>ðð»@PattyHajdu @NavdeepSBains â no one ...</td>\n",
       "      <td>0.500000</td>\n",
       "    </tr>\n",
       "    <tr>\n",
       "      <td>13</td>\n",
       "      <td>Let's all protect ourselves from #COVID19.\\nIt...</td>\n",
       "      <td>0.200000</td>\n",
       "    </tr>\n",
       "    <tr>\n",
       "      <td>14</td>\n",
       "      <td>Rajasthan Government today started a Plasma Ba...</td>\n",
       "      <td>0.000000</td>\n",
       "    </tr>\n",
       "    <tr>\n",
       "      <td>15</td>\n",
       "      <td>Nagaland police on Covid-19 Awareness at City ...</td>\n",
       "      <td>0.000000</td>\n",
       "    </tr>\n",
       "    <tr>\n",
       "      <td>16</td>\n",
       "      <td>July 25 #COVID19 update\\n#TamilNadu - 6988\\nDi...</td>\n",
       "      <td>0.000000</td>\n",
       "    </tr>\n",
       "    <tr>\n",
       "      <td>17</td>\n",
       "      <td>Second wave of #COVID19 in Flanders..back to m...</td>\n",
       "      <td>0.250000</td>\n",
       "    </tr>\n",
       "    <tr>\n",
       "      <td>18</td>\n",
       "      <td>It is during our darkest moments that we must ...</td>\n",
       "      <td>0.000000</td>\n",
       "    </tr>\n",
       "    <tr>\n",
       "      <td>19</td>\n",
       "      <td>COVID Update: The infection rate in Florida is...</td>\n",
       "      <td>0.033333</td>\n",
       "    </tr>\n",
       "  </tbody>\n",
       "</table>\n",
       "</div>"
      ],
      "text/plain": [
       "                                                 text  sentiment\n",
       "0   If I smelled the scent of hand sanitizers toda...  -0.250000\n",
       "1   Hey @Yankees @YankeesPR and @MLB - wouldn't it...   0.500000\n",
       "2   @diane3443 @wdunlap @realDonaldTrump Trump nev...   0.000000\n",
       "3   @brookbanktv The one gift #COVID19 has give me...   0.000000\n",
       "4   25 July : Media Bulletin on Novel #CoronaVirus...   0.000000\n",
       "5   #coronavirus #covid19 deaths continue to rise....  -0.700000\n",
       "6   How #COVID19 Will Change Work in General (and ...   0.050000\n",
       "7   You now have to wear face coverings when out s...   0.000000\n",
       "8   Praying for good health and recovery of @Chouh...   0.700000\n",
       "9   POPE AS GOD - Prophet Sadhu Sundar Selvaraj. W...   0.000000\n",
       "10  49K+ Covid19 cases still no response from \\n@c...   0.000000\n",
       "11  Order here: https://t.co/4NUrGX6EmA\\n\\n#logo #...   0.000000\n",
       "12  ðð»@PattyHajdu @NavdeepSBains â no one ...   0.500000\n",
       "13  Let's all protect ourselves from #COVID19.\\nIt...   0.200000\n",
       "14  Rajasthan Government today started a Plasma Ba...   0.000000\n",
       "15  Nagaland police on Covid-19 Awareness at City ...   0.000000\n",
       "16  July 25 #COVID19 update\\n#TamilNadu - 6988\\nDi...   0.000000\n",
       "17  Second wave of #COVID19 in Flanders..back to m...   0.250000\n",
       "18  It is during our darkest moments that we must ...   0.000000\n",
       "19  COVID Update: The infection rate in Florida is...   0.033333"
      ]
     },
     "execution_count": 35,
     "metadata": {},
     "output_type": "execute_result"
    }
   ],
   "source": [
    "cr[['text','sentiment']].head(20)"
   ]
  },
  {
   "cell_type": "markdown",
   "metadata": {},
   "source": [
    "# Plotting the Worldcloud"
   ]
  },
  {
   "cell_type": "code",
   "execution_count": 36,
   "metadata": {},
   "outputs": [
    {
     "name": "stdout",
     "output_type": "stream",
     "text": [
      "Requirement already satisfied: wordcloud in f:\\phython\\lib\\site-packages (1.8.0)\n",
      "Requirement already satisfied: pillow in f:\\phython\\lib\\site-packages (from wordcloud) (6.2.0)\n",
      "Requirement already satisfied: matplotlib in f:\\phython\\lib\\site-packages (from wordcloud) (3.1.1)\n",
      "Requirement already satisfied: numpy>=1.6.1 in f:\\phython\\lib\\site-packages (from wordcloud) (1.16.5)\n",
      "Requirement already satisfied: cycler>=0.10 in f:\\phython\\lib\\site-packages (from matplotlib->wordcloud) (0.10.0)\n",
      "Requirement already satisfied: kiwisolver>=1.0.1 in f:\\phython\\lib\\site-packages (from matplotlib->wordcloud) (1.1.0)\n",
      "Requirement already satisfied: pyparsing!=2.0.4,!=2.1.2,!=2.1.6,>=2.0.1 in f:\\phython\\lib\\site-packages (from matplotlib->wordcloud) (2.4.2)\n",
      "Requirement already satisfied: python-dateutil>=2.1 in f:\\phython\\lib\\site-packages (from matplotlib->wordcloud) (2.8.0)\n",
      "Requirement already satisfied: six in f:\\phython\\lib\\site-packages (from cycler>=0.10->matplotlib->wordcloud) (1.12.0)\n",
      "Requirement already satisfied: setuptools in f:\\phython\\lib\\site-packages (from kiwisolver>=1.0.1->matplotlib->wordcloud) (41.4.0)\n",
      "Note: you may need to restart the kernel to use updated packages.\n"
     ]
    }
   ],
   "source": [
    "pip install wordcloud"
   ]
  },
  {
   "cell_type": "code",
   "execution_count": 37,
   "metadata": {},
   "outputs": [],
   "source": [
    "import wordcloud"
   ]
  },
  {
   "cell_type": "code",
   "execution_count": 38,
   "metadata": {},
   "outputs": [],
   "source": [
    "from PIL import Image"
   ]
  },
  {
   "cell_type": "code",
   "execution_count": 42,
   "metadata": {},
   "outputs": [],
   "source": [
    "cr['text']=cr['text'].apply(str)"
   ]
  },
  {
   "cell_type": "code",
   "execution_count": 39,
   "metadata": {},
   "outputs": [],
   "source": [
    "from wordcloud import WordCloud, STOPWORDS"
   ]
  },
  {
   "cell_type": "code",
   "execution_count": 58,
   "metadata": {},
   "outputs": [
    {
     "data": {
      "image/png": "[encoded data removed]",
      "text/plain": [
       "<Figure size 864x864 with 1 Axes>"
      ]
     },
     "metadata": {
      "needs_background": "light"
     },
     "output_type": "display_data"
    }
   ],
   "source": [
    "def show_wordcloud(cr, title = None):\n",
    "    wordcloud = WordCloud(\n",
    "        background_color='white',\n",
    "        stopwords=STOPWORDS,\n",
    "        max_words=400,\n",
    "        max_font_size=40, \n",
    "        scale=3,\n",
    "    ).generate(str(cr))\n",
    "\n",
    "    fig = plt.figure(1, figsize=(12, 12))\n",
    "    plt.axis('off')\n",
    "    if title: \n",
    "        fig.suptitle(title, fontsize=20)\n",
    "        fig.subplots_adjust(top=2.3)\n",
    "\n",
    "    plt.imshow(wordcloud)\n",
    "    plt.show()\n",
    "\n",
    "show_wordcloud(cr['text'])"
   ]
  },
  {
   "cell_type": "code",
   "execution_count": 48,
   "metadata": {},
   "outputs": [
    {
     "data": {
      "text/plain": [
       "0         If I smelled the scent of hand sanitizers toda...\n",
       "1         Hey @Yankees @YankeesPR and @MLB - wouldn't it...\n",
       "2         @diane3443 @wdunlap @realDonaldTrump Trump nev...\n",
       "3         @brookbanktv The one gift #COVID19 has give me...\n",
       "4         25 July : Media Bulletin on Novel #CoronaVirus...\n",
       "                                ...                        \n",
       "179103    Thanks @IamOhmai for nominating me for the @WH...\n",
       "179104    2020! The year of insanity! Lol! #COVID19 http...\n",
       "179105    @CTVNews A powerful painting by Juan Lucena. I...\n",
       "179106    More than 1,200 students test positive for #CO...\n",
       "179107    I stop when I see a Stop\\n\\n@SABCNews\\n@Izinda...\n",
       "Name: text, Length: 179108, dtype: object"
      ]
     },
     "execution_count": 48,
     "metadata": {},
     "output_type": "execute_result"
    }
   ],
   "source": [
    "cr['text']"
   ]
  },
  {
   "cell_type": "code",
   "execution_count": null,
   "metadata": {},
   "outputs": [],
   "source": []
  }
 ],
 "metadata": {
  "kernelspec": {
   "display_name": "Python 3",
   "language": "python",
   "name": "python3"
  },
  "language_info": {
   "codemirror_mode": {
    "name": "ipython",
    "version": 3
   },
   "file_extension": ".py",
   "mimetype": "text/x-python",
   "name": "python",
   "nbconvert_exporter": "python",
   "pygments_lexer": "ipython3",
   "version": "3.7.4"
  }
 },
 "nbformat": 4,
 "nbformat_minor": 2
}
